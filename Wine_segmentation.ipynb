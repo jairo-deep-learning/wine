{
  "nbformat": 4,
  "nbformat_minor": 0,
  "metadata": {
    "kernelspec": {
      "display_name": "Python 3",
      "language": "python",
      "name": "python3"
    },
    "language_info": {
      "codemirror_mode": {
        "name": "ipython",
        "version": 3
      },
      "file_extension": ".py",
      "mimetype": "text/x-python",
      "name": "python",
      "nbconvert_exporter": "python",
      "pygments_lexer": "ipython3",
      "version": "3.6.2"
    },
    "colab": {
      "name": "Wine_segmentation.ipynb",
      "provenance": [],
      "collapsed_sections": []
    }
  },
  "cells": [
    {
      "cell_type": "markdown",
      "metadata": {
        "id": "i96NveAZiGdy"
      },
      "source": [
        "# Wine dataset\n",
        "\n",
        "It is well known that wine has motivated people to socialize, create, party, and adventure. It’s no wonder, billions of people around the globe identify as wine lovers!\n",
        "\n",
        "In this dataset, we find 1600 wine references with the following features: \n",
        "* Fixed acidity\n",
        "* Volatile acidity\n",
        "* Citric acid\n",
        "* Residual sugar\n",
        "* Chlorides\n",
        "* Free sulfur dioxide\n",
        "* Total sulfur dioxide\n",
        "* Density\n",
        "* pH\n",
        "* Sulphates\n",
        "* Alcohol\n",
        "* Quality\n",
        "\n",
        "The goal of this project is to create clusters that group references by similarity. This way, we could classify a new wine reference, that has not been included in this analysis, in one of the clusters defined here."
      ]
    },
    {
      "cell_type": "code",
      "metadata": {
        "collapsed": true,
        "id": "rxWAm1NUiGdz"
      },
      "source": [
        "import pandas as pd\n",
        "%matplotlib inline"
      ],
      "execution_count": 1,
      "outputs": []
    },
    {
      "cell_type": "markdown",
      "metadata": {
        "id": "5Rz-6KxbiGd0"
      },
      "source": [
        "### Uploading dataset"
      ]
    },
    {
      "cell_type": "code",
      "metadata": {
        "colab": {
          "base_uri": "https://localhost:8080/",
          "height": 204
        },
        "id": "Gk0tRUgmiGd0",
        "outputId": "1aa59568-6065-4d43-f0b7-71a5d3cf5373"
      },
      "source": [
        "data = pd.read_csv(\"winequality-red.csv\", sep = \";\")\n",
        "data.head()"
      ],
      "execution_count": 2,
      "outputs": [
        {
          "output_type": "execute_result",
          "data": {
            "text/html": [
              "<div>\n",
              "<style scoped>\n",
              "    .dataframe tbody tr th:only-of-type {\n",
              "        vertical-align: middle;\n",
              "    }\n",
              "\n",
              "    .dataframe tbody tr th {\n",
              "        vertical-align: top;\n",
              "    }\n",
              "\n",
              "    .dataframe thead th {\n",
              "        text-align: right;\n",
              "    }\n",
              "</style>\n",
              "<table border=\"1\" class=\"dataframe\">\n",
              "  <thead>\n",
              "    <tr style=\"text-align: right;\">\n",
              "      <th></th>\n",
              "      <th>fixed acidity</th>\n",
              "      <th>volatile acidity</th>\n",
              "      <th>citric acid</th>\n",
              "      <th>residual sugar</th>\n",
              "      <th>chlorides</th>\n",
              "      <th>free sulfur dioxide</th>\n",
              "      <th>total sulfur dioxide</th>\n",
              "      <th>density</th>\n",
              "      <th>pH</th>\n",
              "      <th>sulphates</th>\n",
              "      <th>alcohol</th>\n",
              "      <th>quality</th>\n",
              "    </tr>\n",
              "  </thead>\n",
              "  <tbody>\n",
              "    <tr>\n",
              "      <th>0</th>\n",
              "      <td>7.4</td>\n",
              "      <td>0.70</td>\n",
              "      <td>0.00</td>\n",
              "      <td>1.9</td>\n",
              "      <td>0.076</td>\n",
              "      <td>11.0</td>\n",
              "      <td>34.0</td>\n",
              "      <td>0.9978</td>\n",
              "      <td>3.51</td>\n",
              "      <td>0.56</td>\n",
              "      <td>9.4</td>\n",
              "      <td>5</td>\n",
              "    </tr>\n",
              "    <tr>\n",
              "      <th>1</th>\n",
              "      <td>7.8</td>\n",
              "      <td>0.88</td>\n",
              "      <td>0.00</td>\n",
              "      <td>2.6</td>\n",
              "      <td>0.098</td>\n",
              "      <td>25.0</td>\n",
              "      <td>67.0</td>\n",
              "      <td>0.9968</td>\n",
              "      <td>3.20</td>\n",
              "      <td>0.68</td>\n",
              "      <td>9.8</td>\n",
              "      <td>5</td>\n",
              "    </tr>\n",
              "    <tr>\n",
              "      <th>2</th>\n",
              "      <td>7.8</td>\n",
              "      <td>0.76</td>\n",
              "      <td>0.04</td>\n",
              "      <td>2.3</td>\n",
              "      <td>0.092</td>\n",
              "      <td>15.0</td>\n",
              "      <td>54.0</td>\n",
              "      <td>0.9970</td>\n",
              "      <td>3.26</td>\n",
              "      <td>0.65</td>\n",
              "      <td>9.8</td>\n",
              "      <td>5</td>\n",
              "    </tr>\n",
              "    <tr>\n",
              "      <th>3</th>\n",
              "      <td>11.2</td>\n",
              "      <td>0.28</td>\n",
              "      <td>0.56</td>\n",
              "      <td>1.9</td>\n",
              "      <td>0.075</td>\n",
              "      <td>17.0</td>\n",
              "      <td>60.0</td>\n",
              "      <td>0.9980</td>\n",
              "      <td>3.16</td>\n",
              "      <td>0.58</td>\n",
              "      <td>9.8</td>\n",
              "      <td>6</td>\n",
              "    </tr>\n",
              "    <tr>\n",
              "      <th>4</th>\n",
              "      <td>7.4</td>\n",
              "      <td>0.70</td>\n",
              "      <td>0.00</td>\n",
              "      <td>1.9</td>\n",
              "      <td>0.076</td>\n",
              "      <td>11.0</td>\n",
              "      <td>34.0</td>\n",
              "      <td>0.9978</td>\n",
              "      <td>3.51</td>\n",
              "      <td>0.56</td>\n",
              "      <td>9.4</td>\n",
              "      <td>5</td>\n",
              "    </tr>\n",
              "  </tbody>\n",
              "</table>\n",
              "</div>"
            ],
            "text/plain": [
              "   fixed acidity  volatile acidity  citric acid  ...  sulphates  alcohol  quality\n",
              "0            7.4              0.70         0.00  ...       0.56      9.4        5\n",
              "1            7.8              0.88         0.00  ...       0.68      9.8        5\n",
              "2            7.8              0.76         0.04  ...       0.65      9.8        5\n",
              "3           11.2              0.28         0.56  ...       0.58      9.8        6\n",
              "4            7.4              0.70         0.00  ...       0.56      9.4        5\n",
              "\n",
              "[5 rows x 12 columns]"
            ]
          },
          "metadata": {
            "tags": []
          },
          "execution_count": 2
        }
      ]
    },
    {
      "cell_type": "code",
      "metadata": {
        "id": "QfoX05Z_iGd1",
        "colab": {
          "base_uri": "https://localhost:8080/"
        },
        "outputId": "caaaf17a-a162-4bdf-9372-b35b599eb69b"
      },
      "source": [
        "data.shape"
      ],
      "execution_count": 3,
      "outputs": [
        {
          "output_type": "execute_result",
          "data": {
            "text/plain": [
              "(1599, 12)"
            ]
          },
          "metadata": {
            "tags": []
          },
          "execution_count": 3
        }
      ]
    },
    {
      "cell_type": "code",
      "metadata": {
        "collapsed": true,
        "id": "1HnPbqGYiGd2"
      },
      "source": [
        "import matplotlib.pyplot as plt\n",
        "import numpy as np"
      ],
      "execution_count": 10,
      "outputs": []
    },
    {
      "cell_type": "code",
      "metadata": {
        "colab": {
          "base_uri": "https://localhost:8080/",
          "height": 316
        },
        "id": "J-uaY22PiGd2",
        "outputId": "8dfeaf5f-f36f-4293-dc1b-8341dccba3b4"
      },
      "source": [
        "plt.hist(data[\"quality\"])"
      ],
      "execution_count": 6,
      "outputs": [
        {
          "output_type": "execute_result",
          "data": {
            "text/plain": [
              "(array([ 10.,   0.,  53.,   0., 681.,   0., 638.,   0., 199.,  18.]),\n",
              " array([3. , 3.5, 4. , 4.5, 5. , 5.5, 6. , 6.5, 7. , 7.5, 8. ]),\n",
              " <a list of 10 Patch objects>)"
            ]
          },
          "metadata": {
            "tags": []
          },
          "execution_count": 6
        },
        {
          "output_type": "display_data",
          "data": {
            "image/png": "[encoded data removed]",
            "text/plain": [
              "<Figure size 432x288 with 1 Axes>"
            ]
          },
          "metadata": {
            "tags": [],
            "needs_background": "light"
          }
        }
      ]
    },
    {
      "cell_type": "code",
      "metadata": {
        "colab": {
          "base_uri": "https://localhost:8080/",
          "height": 266
        },
        "id": "OBzxt4p0iGd2",
        "outputId": "6e249346-1f78-47ce-fa70-d25d5cf50817"
      },
      "source": [
        "data.groupby(\"quality\").mean()"
      ],
      "execution_count": 7,
      "outputs": [
        {
          "output_type": "execute_result",
          "data": {
            "text/html": [
              "<div>\n",
              "<style scoped>\n",
              "    .dataframe tbody tr th:only-of-type {\n",
              "        vertical-align: middle;\n",
              "    }\n",
              "\n",
              "    .dataframe tbody tr th {\n",
              "        vertical-align: top;\n",
              "    }\n",
              "\n",
              "    .dataframe thead th {\n",
              "        text-align: right;\n",
              "    }\n",
              "</style>\n",
              "<table border=\"1\" class=\"dataframe\">\n",
              "  <thead>\n",
              "    <tr style=\"text-align: right;\">\n",
              "      <th></th>\n",
              "      <th>fixed acidity</th>\n",
              "      <th>volatile acidity</th>\n",
              "      <th>citric acid</th>\n",
              "      <th>residual sugar</th>\n",
              "      <th>chlorides</th>\n",
              "      <th>free sulfur dioxide</th>\n",
              "      <th>total sulfur dioxide</th>\n",
              "      <th>density</th>\n",
              "      <th>pH</th>\n",
              "      <th>sulphates</th>\n",
              "      <th>alcohol</th>\n",
              "    </tr>\n",
              "    <tr>\n",
              "      <th>quality</th>\n",
              "      <th></th>\n",
              "      <th></th>\n",
              "      <th></th>\n",
              "      <th></th>\n",
              "      <th></th>\n",
              "      <th></th>\n",
              "      <th></th>\n",
              "      <th></th>\n",
              "      <th></th>\n",
              "      <th></th>\n",
              "      <th></th>\n",
              "    </tr>\n",
              "  </thead>\n",
              "  <tbody>\n",
              "    <tr>\n",
              "      <th>3</th>\n",
              "      <td>8.360000</td>\n",
              "      <td>0.884500</td>\n",
              "      <td>0.171000</td>\n",
              "      <td>2.635000</td>\n",
              "      <td>0.122500</td>\n",
              "      <td>11.000000</td>\n",
              "      <td>24.900000</td>\n",
              "      <td>0.997464</td>\n",
              "      <td>3.398000</td>\n",
              "      <td>0.570000</td>\n",
              "      <td>9.955000</td>\n",
              "    </tr>\n",
              "    <tr>\n",
              "      <th>4</th>\n",
              "      <td>7.779245</td>\n",
              "      <td>0.693962</td>\n",
              "      <td>0.174151</td>\n",
              "      <td>2.694340</td>\n",
              "      <td>0.090679</td>\n",
              "      <td>12.264151</td>\n",
              "      <td>36.245283</td>\n",
              "      <td>0.996542</td>\n",
              "      <td>3.381509</td>\n",
              "      <td>0.596415</td>\n",
              "      <td>10.265094</td>\n",
              "    </tr>\n",
              "    <tr>\n",
              "      <th>5</th>\n",
              "      <td>8.167254</td>\n",
              "      <td>0.577041</td>\n",
              "      <td>0.243686</td>\n",
              "      <td>2.528855</td>\n",
              "      <td>0.092736</td>\n",
              "      <td>16.983847</td>\n",
              "      <td>56.513950</td>\n",
              "      <td>0.997104</td>\n",
              "      <td>3.304949</td>\n",
              "      <td>0.620969</td>\n",
              "      <td>9.899706</td>\n",
              "    </tr>\n",
              "    <tr>\n",
              "      <th>6</th>\n",
              "      <td>8.347179</td>\n",
              "      <td>0.497484</td>\n",
              "      <td>0.273824</td>\n",
              "      <td>2.477194</td>\n",
              "      <td>0.084956</td>\n",
              "      <td>15.711599</td>\n",
              "      <td>40.869906</td>\n",
              "      <td>0.996615</td>\n",
              "      <td>3.318072</td>\n",
              "      <td>0.675329</td>\n",
              "      <td>10.629519</td>\n",
              "    </tr>\n",
              "    <tr>\n",
              "      <th>7</th>\n",
              "      <td>8.872362</td>\n",
              "      <td>0.403920</td>\n",
              "      <td>0.375176</td>\n",
              "      <td>2.720603</td>\n",
              "      <td>0.076588</td>\n",
              "      <td>14.045226</td>\n",
              "      <td>35.020101</td>\n",
              "      <td>0.996104</td>\n",
              "      <td>3.290754</td>\n",
              "      <td>0.741256</td>\n",
              "      <td>11.465913</td>\n",
              "    </tr>\n",
              "    <tr>\n",
              "      <th>8</th>\n",
              "      <td>8.566667</td>\n",
              "      <td>0.423333</td>\n",
              "      <td>0.391111</td>\n",
              "      <td>2.577778</td>\n",
              "      <td>0.068444</td>\n",
              "      <td>13.277778</td>\n",
              "      <td>33.444444</td>\n",
              "      <td>0.995212</td>\n",
              "      <td>3.267222</td>\n",
              "      <td>0.767778</td>\n",
              "      <td>12.094444</td>\n",
              "    </tr>\n",
              "  </tbody>\n",
              "</table>\n",
              "</div>"
            ],
            "text/plain": [
              "         fixed acidity  volatile acidity  ...  sulphates    alcohol\n",
              "quality                                   ...                      \n",
              "3             8.360000          0.884500  ...   0.570000   9.955000\n",
              "4             7.779245          0.693962  ...   0.596415  10.265094\n",
              "5             8.167254          0.577041  ...   0.620969   9.899706\n",
              "6             8.347179          0.497484  ...   0.675329  10.629519\n",
              "7             8.872362          0.403920  ...   0.741256  11.465913\n",
              "8             8.566667          0.423333  ...   0.767778  12.094444\n",
              "\n",
              "[6 rows x 11 columns]"
            ]
          },
          "metadata": {
            "tags": []
          },
          "execution_count": 7
        }
      ]
    },
    {
      "cell_type": "markdown",
      "metadata": {
        "id": "nZnk4XD_9jnf"
      },
      "source": [
        "### Data cleaning"
      ]
    },
    {
      "cell_type": "code",
      "metadata": {
        "id": "vIrJF7-V5fwX"
      },
      "source": [
        "def data_cleaning(data):\n",
        "  unique_values = []\n",
        "  na_values = []\n",
        "  null_values = []\n",
        "  columns = []\n",
        "\n",
        "  for column in data.columns.values:\n",
        "    unique_values.append(len(np.unique(data[column])))\n",
        "    na_values.append(list(data[column].isna()).count(True))\n",
        "    null_values.append(list(data[column].isnull()).count(True))\n",
        "    columns.append(column)\n",
        "\n",
        "  data_validated = pd.DataFrame(index=columns) \n",
        "  data_validated[\"unique_values\"] = list(unique_values)\n",
        "  data_validated[\"na_values\"] = list(na_values)\n",
        "  data_validated[\"null_values\"] = list(null_values)\n",
        "  return data_validated"
      ],
      "execution_count": 191,
      "outputs": []
    },
    {
      "cell_type": "code",
      "metadata": {
        "colab": {
          "base_uri": "https://localhost:8080/",
          "height": 421
        },
        "id": "WAbKGvLq2-yp",
        "outputId": "9170c864-abba-4aca-bb4a-a189bb175e0e"
      },
      "source": [
        "data_cleaning(data)"
      ],
      "execution_count": 192,
      "outputs": [
        {
          "output_type": "execute_result",
          "data": {
            "text/html": [
              "<div>\n",
              "<style scoped>\n",
              "    .dataframe tbody tr th:only-of-type {\n",
              "        vertical-align: middle;\n",
              "    }\n",
              "\n",
              "    .dataframe tbody tr th {\n",
              "        vertical-align: top;\n",
              "    }\n",
              "\n",
              "    .dataframe thead th {\n",
              "        text-align: right;\n",
              "    }\n",
              "</style>\n",
              "<table border=\"1\" class=\"dataframe\">\n",
              "  <thead>\n",
              "    <tr style=\"text-align: right;\">\n",
              "      <th></th>\n",
              "      <th>unique_values</th>\n",
              "      <th>na_values</th>\n",
              "      <th>null_values</th>\n",
              "    </tr>\n",
              "  </thead>\n",
              "  <tbody>\n",
              "    <tr>\n",
              "      <th>fixed acidity</th>\n",
              "      <td>96</td>\n",
              "      <td>0</td>\n",
              "      <td>0</td>\n",
              "    </tr>\n",
              "    <tr>\n",
              "      <th>volatile acidity</th>\n",
              "      <td>143</td>\n",
              "      <td>0</td>\n",
              "      <td>0</td>\n",
              "    </tr>\n",
              "    <tr>\n",
              "      <th>citric acid</th>\n",
              "      <td>80</td>\n",
              "      <td>0</td>\n",
              "      <td>0</td>\n",
              "    </tr>\n",
              "    <tr>\n",
              "      <th>residual sugar</th>\n",
              "      <td>91</td>\n",
              "      <td>0</td>\n",
              "      <td>0</td>\n",
              "    </tr>\n",
              "    <tr>\n",
              "      <th>chlorides</th>\n",
              "      <td>153</td>\n",
              "      <td>0</td>\n",
              "      <td>0</td>\n",
              "    </tr>\n",
              "    <tr>\n",
              "      <th>free sulfur dioxide</th>\n",
              "      <td>60</td>\n",
              "      <td>0</td>\n",
              "      <td>0</td>\n",
              "    </tr>\n",
              "    <tr>\n",
              "      <th>total sulfur dioxide</th>\n",
              "      <td>144</td>\n",
              "      <td>0</td>\n",
              "      <td>0</td>\n",
              "    </tr>\n",
              "    <tr>\n",
              "      <th>density</th>\n",
              "      <td>436</td>\n",
              "      <td>0</td>\n",
              "      <td>0</td>\n",
              "    </tr>\n",
              "    <tr>\n",
              "      <th>pH</th>\n",
              "      <td>89</td>\n",
              "      <td>0</td>\n",
              "      <td>0</td>\n",
              "    </tr>\n",
              "    <tr>\n",
              "      <th>sulphates</th>\n",
              "      <td>96</td>\n",
              "      <td>0</td>\n",
              "      <td>0</td>\n",
              "    </tr>\n",
              "    <tr>\n",
              "      <th>alcohol</th>\n",
              "      <td>65</td>\n",
              "      <td>0</td>\n",
              "      <td>0</td>\n",
              "    </tr>\n",
              "    <tr>\n",
              "      <th>quality</th>\n",
              "      <td>6</td>\n",
              "      <td>0</td>\n",
              "      <td>0</td>\n",
              "    </tr>\n",
              "  </tbody>\n",
              "</table>\n",
              "</div>"
            ],
            "text/plain": [
              "                      unique_values  na_values  null_values\n",
              "fixed acidity                    96          0            0\n",
              "volatile acidity                143          0            0\n",
              "citric acid                      80          0            0\n",
              "residual sugar                   91          0            0\n",
              "chlorides                       153          0            0\n",
              "free sulfur dioxide              60          0            0\n",
              "total sulfur dioxide            144          0            0\n",
              "density                         436          0            0\n",
              "pH                               89          0            0\n",
              "sulphates                        96          0            0\n",
              "alcohol                          65          0            0\n",
              "quality                           6          0            0"
            ]
          },
          "metadata": {
            "tags": []
          },
          "execution_count": 192
        }
      ]
    },
    {
      "cell_type": "markdown",
      "metadata": {
        "id": "FJbrv8WjiGd3"
      },
      "source": [
        "### Normalizing dataset"
      ]
    },
    {
      "cell_type": "code",
      "metadata": {
        "colab": {
          "base_uri": "https://localhost:8080/",
          "height": 204
        },
        "id": "XPcRvM3ZLI4t",
        "outputId": "5a012175-389d-4025-d89f-b015e3591c3d"
      },
      "source": [
        "columns_name = data.columns.values\n",
        "from sklearn.preprocessing import MinMaxScaler\n",
        "scaler = MinMaxScaler()\n",
        "data_norm = pd.DataFrame(scaler.fit_transform(data),columns=columns_name)\n",
        "data_norm.head()"
      ],
      "execution_count": 243,
      "outputs": [
        {
          "output_type": "execute_result",
          "data": {
            "text/html": [
              "<div>\n",
              "<style scoped>\n",
              "    .dataframe tbody tr th:only-of-type {\n",
              "        vertical-align: middle;\n",
              "    }\n",
              "\n",
              "    .dataframe tbody tr th {\n",
              "        vertical-align: top;\n",
              "    }\n",
              "\n",
              "    .dataframe thead th {\n",
              "        text-align: right;\n",
              "    }\n",
              "</style>\n",
              "<table border=\"1\" class=\"dataframe\">\n",
              "  <thead>\n",
              "    <tr style=\"text-align: right;\">\n",
              "      <th></th>\n",
              "      <th>fixed acidity</th>\n",
              "      <th>volatile acidity</th>\n",
              "      <th>citric acid</th>\n",
              "      <th>residual sugar</th>\n",
              "      <th>chlorides</th>\n",
              "      <th>free sulfur dioxide</th>\n",
              "      <th>total sulfur dioxide</th>\n",
              "      <th>density</th>\n",
              "      <th>pH</th>\n",
              "      <th>sulphates</th>\n",
              "      <th>alcohol</th>\n",
              "      <th>quality</th>\n",
              "    </tr>\n",
              "  </thead>\n",
              "  <tbody>\n",
              "    <tr>\n",
              "      <th>0</th>\n",
              "      <td>0.247788</td>\n",
              "      <td>0.397260</td>\n",
              "      <td>0.00</td>\n",
              "      <td>0.068493</td>\n",
              "      <td>0.106845</td>\n",
              "      <td>0.140845</td>\n",
              "      <td>0.098940</td>\n",
              "      <td>0.567548</td>\n",
              "      <td>0.606299</td>\n",
              "      <td>0.137725</td>\n",
              "      <td>0.153846</td>\n",
              "      <td>0.4</td>\n",
              "    </tr>\n",
              "    <tr>\n",
              "      <th>1</th>\n",
              "      <td>0.283186</td>\n",
              "      <td>0.520548</td>\n",
              "      <td>0.00</td>\n",
              "      <td>0.116438</td>\n",
              "      <td>0.143573</td>\n",
              "      <td>0.338028</td>\n",
              "      <td>0.215548</td>\n",
              "      <td>0.494126</td>\n",
              "      <td>0.362205</td>\n",
              "      <td>0.209581</td>\n",
              "      <td>0.215385</td>\n",
              "      <td>0.4</td>\n",
              "    </tr>\n",
              "    <tr>\n",
              "      <th>2</th>\n",
              "      <td>0.283186</td>\n",
              "      <td>0.438356</td>\n",
              "      <td>0.04</td>\n",
              "      <td>0.095890</td>\n",
              "      <td>0.133556</td>\n",
              "      <td>0.197183</td>\n",
              "      <td>0.169611</td>\n",
              "      <td>0.508811</td>\n",
              "      <td>0.409449</td>\n",
              "      <td>0.191617</td>\n",
              "      <td>0.215385</td>\n",
              "      <td>0.4</td>\n",
              "    </tr>\n",
              "    <tr>\n",
              "      <th>3</th>\n",
              "      <td>0.584071</td>\n",
              "      <td>0.109589</td>\n",
              "      <td>0.56</td>\n",
              "      <td>0.068493</td>\n",
              "      <td>0.105175</td>\n",
              "      <td>0.225352</td>\n",
              "      <td>0.190813</td>\n",
              "      <td>0.582232</td>\n",
              "      <td>0.330709</td>\n",
              "      <td>0.149701</td>\n",
              "      <td>0.215385</td>\n",
              "      <td>0.6</td>\n",
              "    </tr>\n",
              "    <tr>\n",
              "      <th>4</th>\n",
              "      <td>0.247788</td>\n",
              "      <td>0.397260</td>\n",
              "      <td>0.00</td>\n",
              "      <td>0.068493</td>\n",
              "      <td>0.106845</td>\n",
              "      <td>0.140845</td>\n",
              "      <td>0.098940</td>\n",
              "      <td>0.567548</td>\n",
              "      <td>0.606299</td>\n",
              "      <td>0.137725</td>\n",
              "      <td>0.153846</td>\n",
              "      <td>0.4</td>\n",
              "    </tr>\n",
              "  </tbody>\n",
              "</table>\n",
              "</div>"
            ],
            "text/plain": [
              "   fixed acidity  volatile acidity  citric acid  ...  sulphates   alcohol  quality\n",
              "0       0.247788          0.397260         0.00  ...   0.137725  0.153846      0.4\n",
              "1       0.283186          0.520548         0.00  ...   0.209581  0.215385      0.4\n",
              "2       0.283186          0.438356         0.04  ...   0.191617  0.215385      0.4\n",
              "3       0.584071          0.109589         0.56  ...   0.149701  0.215385      0.6\n",
              "4       0.247788          0.397260         0.00  ...   0.137725  0.153846      0.4\n",
              "\n",
              "[5 rows x 12 columns]"
            ]
          },
          "metadata": {
            "tags": []
          },
          "execution_count": 243
        }
      ]
    },
    {
      "cell_type": "code",
      "metadata": {
        "colab": {
          "base_uri": "https://localhost:8080/"
        },
        "id": "b05MIuQYSHoA",
        "outputId": "a2219889-3a05-4c44-8297-90740979fce0"
      },
      "source": [
        "data_norm.columns.values"
      ],
      "execution_count": 244,
      "outputs": [
        {
          "output_type": "execute_result",
          "data": {
            "text/plain": [
              "array(['fixed acidity', 'volatile acidity', 'citric acid',\n",
              "       'residual sugar', 'chlorides', 'free sulfur dioxide',\n",
              "       'total sulfur dioxide', 'density', 'pH', 'sulphates', 'alcohol',\n",
              "       'quality'], dtype=object)"
            ]
          },
          "metadata": {
            "tags": []
          },
          "execution_count": 244
        }
      ]
    },
    {
      "cell_type": "markdown",
      "metadata": {
        "id": "phuMX6kEiGd4"
      },
      "source": [
        "### Hierarchical Clustering"
      ]
    },
    {
      "cell_type": "code",
      "metadata": {
        "collapsed": true,
        "id": "yy5NqMT9iGd4"
      },
      "source": [
        "from sklearn.cluster import AgglomerativeClustering\n",
        "from scipy.cluster.hierarchy import dendrogram, linkage\n",
        "from scipy.cluster.hierarchy import cophenet\n",
        "from scipy.spatial.distance import pdist"
      ],
      "execution_count": 213,
      "outputs": []
    },
    {
      "cell_type": "code",
      "metadata": {
        "id": "o8aMuqTHiGd4",
        "colab": {
          "base_uri": "https://localhost:8080/"
        },
        "outputId": "28cf5620-8b09-43fd-ddbd-c9df7701abce"
      },
      "source": [
        "clus = AgglomerativeClustering(n_clusters = 6, linkage = \"ward\").fit(data_norm)\n",
        "clus"
      ],
      "execution_count": 214,
      "outputs": [
        {
          "output_type": "execute_result",
          "data": {
            "text/plain": [
              "AgglomerativeClustering(affinity='euclidean', compute_full_tree='auto',\n",
              "                        connectivity=None, distance_threshold=None,\n",
              "                        linkage='ward', memory=None, n_clusters=6)"
            ]
          },
          "metadata": {
            "tags": []
          },
          "execution_count": 214
        }
      ]
    },
    {
      "cell_type": "markdown",
      "metadata": {
        "id": "51BaYNLViGd4"
      },
      "source": [
        "Labels correponds to cluster's name"
      ]
    },
    {
      "cell_type": "code",
      "metadata": {
        "id": "z4iCXflliGd5",
        "colab": {
          "base_uri": "https://localhost:8080/"
        },
        "outputId": "371c7fc2-4c8a-4edf-a37c-ce9903c0e644"
      },
      "source": [
        "np.unique(pd.DataFrame(clus.labels_))"
      ],
      "execution_count": 215,
      "outputs": [
        {
          "output_type": "execute_result",
          "data": {
            "text/plain": [
              "array([0, 1, 2, 3, 4, 5])"
            ]
          },
          "metadata": {
            "tags": []
          },
          "execution_count": 215
        }
      ]
    },
    {
      "cell_type": "code",
      "metadata": {
        "id": "ZfC8Z9v1iGd5"
      },
      "source": [
        "md_h = pd.Series(clus.labels_)\n",
        "#clus_labels"
      ],
      "execution_count": 216,
      "outputs": []
    },
    {
      "cell_type": "code",
      "metadata": {
        "id": "wTEiT95iiGd5",
        "colab": {
          "base_uri": "https://localhost:8080/",
          "height": 312
        },
        "outputId": "008b135e-60ba-4770-9fe1-2d37437ff026"
      },
      "source": [
        "plt.hist(md_h)\n",
        "plt.title(\"Number of wine reference per cluster\")\n",
        "plt.xlabel(\"Cluster\")\n",
        "plt.ylabel(\"Quantity\")"
      ],
      "execution_count": 217,
      "outputs": [
        {
          "output_type": "execute_result",
          "data": {
            "text/plain": [
              "Text(0, 0.5, 'Quantity')"
            ]
          },
          "metadata": {
            "tags": []
          },
          "execution_count": 217
        },
        {
          "output_type": "display_data",
          "data": {
            "image/png": "[encoded data removed]",
            "text/plain": [
              "<Figure size 432x288 with 1 Axes>"
            ]
          },
          "metadata": {
            "tags": [],
            "needs_background": "light"
          }
        }
      ]
    },
    {
      "cell_type": "code",
      "metadata": {
        "collapsed": true,
        "id": "EyhC0H8aiGd6"
      },
      "source": [
        "from scipy.cluster.hierarchy import dendrogram, linkage"
      ],
      "execution_count": 218,
      "outputs": []
    },
    {
      "cell_type": "code",
      "metadata": {
        "collapsed": true,
        "id": "n36ATneUiGd6"
      },
      "source": [
        "Z = linkage(data_norm, method=\"ward\",metric='euclidean')"
      ],
      "execution_count": 219,
      "outputs": []
    },
    {
      "cell_type": "code",
      "metadata": {
        "id": "jsQpPovuiGd7",
        "colab": {
          "base_uri": "https://localhost:8080/",
          "height": 523
        },
        "outputId": "9fdbffdd-f6ea-44f8-de58-2ed9cb4e4560"
      },
      "source": [
        "plt.figure(figsize=(10,8))\n",
        "dendrogram(Z)\n",
        "plt.xlabel(\"Wine reference\",fontsize=16)\n",
        "plt.ylabel(\"Euclidean Distance\",fontsize=16)\n",
        "plt.title(\"Dendrogram\",fontsize=16)\n",
        "plt.show()"
      ],
      "execution_count": 258,
      "outputs": [
        {
          "output_type": "display_data",
          "data": {
            "image/png": "[encoded data removed]",
            "text/plain": [
              "<Figure size 720x576 with 1 Axes>"
            ]
          },
          "metadata": {
            "tags": [],
            "needs_background": "light"
          }
        }
      ]
    },
    {
      "cell_type": "markdown",
      "metadata": {
        "collapsed": true,
        "id": "NnPgvBUCiGd7"
      },
      "source": [
        "### K-means Clustering"
      ]
    },
    {
      "cell_type": "code",
      "metadata": {
        "collapsed": true,
        "id": "hC65DdM4iGd7"
      },
      "source": [
        "from sklearn.cluster import KMeans\n",
        "from sklearn import datasets"
      ],
      "execution_count": 220,
      "outputs": []
    },
    {
      "cell_type": "code",
      "metadata": {
        "id": "73PNA1NfiGd7",
        "colab": {
          "base_uri": "https://localhost:8080/"
        },
        "outputId": "5b5dea0f-3831-4402-f49c-a80717e01acc"
      },
      "source": [
        "model = KMeans(n_clusters=6)\n",
        "model.fit(data_norm)"
      ],
      "execution_count": 221,
      "outputs": [
        {
          "output_type": "execute_result",
          "data": {
            "text/plain": [
              "KMeans(algorithm='auto', copy_x=True, init='k-means++', max_iter=300,\n",
              "       n_clusters=6, n_init=10, n_jobs=None, precompute_distances='auto',\n",
              "       random_state=None, tol=0.0001, verbose=0)"
            ]
          },
          "metadata": {
            "tags": []
          },
          "execution_count": 221
        }
      ]
    },
    {
      "cell_type": "code",
      "metadata": {
        "id": "rX0q-0xYiGd8",
        "colab": {
          "base_uri": "https://localhost:8080/"
        },
        "outputId": "5055ad31-5da4-4bf9-ce85-3419d40c1c9f"
      },
      "source": [
        "model.labels_"
      ],
      "execution_count": 222,
      "outputs": [
        {
          "output_type": "execute_result",
          "data": {
            "text/plain": [
              "array([1, 1, 1, ..., 3, 1, 0], dtype=int32)"
            ]
          },
          "metadata": {
            "tags": []
          },
          "execution_count": 222
        }
      ]
    },
    {
      "cell_type": "code",
      "metadata": {
        "collapsed": true,
        "id": "B7Aa9nf4iGd8"
      },
      "source": [
        "md_k = pd.Series(model.labels_)"
      ],
      "execution_count": 223,
      "outputs": []
    },
    {
      "cell_type": "code",
      "metadata": {
        "id": "XWnMvQuiiGd8",
        "colab": {
          "base_uri": "https://localhost:8080/",
          "height": 221
        },
        "outputId": "3637d759-9b18-4c26-b6c3-5da9314ef491"
      },
      "source": [
        "data_norm[\"KMeans clustering\"]=list(md_k)\n",
        "data_norm[\"Clustering Hierarchical clustering\"]=list(md_h)\n",
        "data_norm.head()"
      ],
      "execution_count": 246,
      "outputs": [
        {
          "output_type": "execute_result",
          "data": {
            "text/html": [
              "<div>\n",
              "<style scoped>\n",
              "    .dataframe tbody tr th:only-of-type {\n",
              "        vertical-align: middle;\n",
              "    }\n",
              "\n",
              "    .dataframe tbody tr th {\n",
              "        vertical-align: top;\n",
              "    }\n",
              "\n",
              "    .dataframe thead th {\n",
              "        text-align: right;\n",
              "    }\n",
              "</style>\n",
              "<table border=\"1\" class=\"dataframe\">\n",
              "  <thead>\n",
              "    <tr style=\"text-align: right;\">\n",
              "      <th></th>\n",
              "      <th>fixed acidity</th>\n",
              "      <th>volatile acidity</th>\n",
              "      <th>citric acid</th>\n",
              "      <th>residual sugar</th>\n",
              "      <th>chlorides</th>\n",
              "      <th>free sulfur dioxide</th>\n",
              "      <th>total sulfur dioxide</th>\n",
              "      <th>density</th>\n",
              "      <th>pH</th>\n",
              "      <th>sulphates</th>\n",
              "      <th>alcohol</th>\n",
              "      <th>quality</th>\n",
              "      <th>KMeans clustering</th>\n",
              "      <th>Clustering Hierarchical clustering</th>\n",
              "    </tr>\n",
              "  </thead>\n",
              "  <tbody>\n",
              "    <tr>\n",
              "      <th>0</th>\n",
              "      <td>0.247788</td>\n",
              "      <td>0.397260</td>\n",
              "      <td>0.00</td>\n",
              "      <td>0.068493</td>\n",
              "      <td>0.106845</td>\n",
              "      <td>0.140845</td>\n",
              "      <td>0.098940</td>\n",
              "      <td>0.567548</td>\n",
              "      <td>0.606299</td>\n",
              "      <td>0.137725</td>\n",
              "      <td>0.153846</td>\n",
              "      <td>0.4</td>\n",
              "      <td>1</td>\n",
              "      <td>2</td>\n",
              "    </tr>\n",
              "    <tr>\n",
              "      <th>1</th>\n",
              "      <td>0.283186</td>\n",
              "      <td>0.520548</td>\n",
              "      <td>0.00</td>\n",
              "      <td>0.116438</td>\n",
              "      <td>0.143573</td>\n",
              "      <td>0.338028</td>\n",
              "      <td>0.215548</td>\n",
              "      <td>0.494126</td>\n",
              "      <td>0.362205</td>\n",
              "      <td>0.209581</td>\n",
              "      <td>0.215385</td>\n",
              "      <td>0.4</td>\n",
              "      <td>1</td>\n",
              "      <td>2</td>\n",
              "    </tr>\n",
              "    <tr>\n",
              "      <th>2</th>\n",
              "      <td>0.283186</td>\n",
              "      <td>0.438356</td>\n",
              "      <td>0.04</td>\n",
              "      <td>0.095890</td>\n",
              "      <td>0.133556</td>\n",
              "      <td>0.197183</td>\n",
              "      <td>0.169611</td>\n",
              "      <td>0.508811</td>\n",
              "      <td>0.409449</td>\n",
              "      <td>0.191617</td>\n",
              "      <td>0.215385</td>\n",
              "      <td>0.4</td>\n",
              "      <td>1</td>\n",
              "      <td>2</td>\n",
              "    </tr>\n",
              "    <tr>\n",
              "      <th>3</th>\n",
              "      <td>0.584071</td>\n",
              "      <td>0.109589</td>\n",
              "      <td>0.56</td>\n",
              "      <td>0.068493</td>\n",
              "      <td>0.105175</td>\n",
              "      <td>0.225352</td>\n",
              "      <td>0.190813</td>\n",
              "      <td>0.582232</td>\n",
              "      <td>0.330709</td>\n",
              "      <td>0.149701</td>\n",
              "      <td>0.215385</td>\n",
              "      <td>0.6</td>\n",
              "      <td>5</td>\n",
              "      <td>3</td>\n",
              "    </tr>\n",
              "    <tr>\n",
              "      <th>4</th>\n",
              "      <td>0.247788</td>\n",
              "      <td>0.397260</td>\n",
              "      <td>0.00</td>\n",
              "      <td>0.068493</td>\n",
              "      <td>0.106845</td>\n",
              "      <td>0.140845</td>\n",
              "      <td>0.098940</td>\n",
              "      <td>0.567548</td>\n",
              "      <td>0.606299</td>\n",
              "      <td>0.137725</td>\n",
              "      <td>0.153846</td>\n",
              "      <td>0.4</td>\n",
              "      <td>1</td>\n",
              "      <td>2</td>\n",
              "    </tr>\n",
              "  </tbody>\n",
              "</table>\n",
              "</div>"
            ],
            "text/plain": [
              "   fixed acidity  ...  Clustering Hierarchical clustering\n",
              "0       0.247788  ...                                   2\n",
              "1       0.283186  ...                                   2\n",
              "2       0.283186  ...                                   2\n",
              "3       0.584071  ...                                   3\n",
              "4       0.247788  ...                                   2\n",
              "\n",
              "[5 rows x 14 columns]"
            ]
          },
          "metadata": {
            "tags": []
          },
          "execution_count": 246
        }
      ]
    },
    {
      "cell_type": "code",
      "metadata": {
        "id": "ZV0c1yariGd8",
        "colab": {
          "base_uri": "https://localhost:8080/",
          "height": 316
        },
        "outputId": "3c3e7c55-f777-41cc-ace8-94d66e9794fb"
      },
      "source": [
        "plt.hist(md_k)"
      ],
      "execution_count": 225,
      "outputs": [
        {
          "output_type": "execute_result",
          "data": {
            "text/plain": [
              "(array([232.,   0., 352.,   0., 303.,   0., 213.,   0., 276., 223.]),\n",
              " array([0. , 0.5, 1. , 1.5, 2. , 2.5, 3. , 3.5, 4. , 4.5, 5. ]),\n",
              " <a list of 10 Patch objects>)"
            ]
          },
          "metadata": {
            "tags": []
          },
          "execution_count": 225
        },
        {
          "output_type": "display_data",
          "data": {
            "image/png": "[encoded data removed]",
            "text/plain": [
              "<Figure size 432x288 with 1 Axes>"
            ]
          },
          "metadata": {
            "tags": [],
            "needs_background": "light"
          }
        }
      ]
    },
    {
      "cell_type": "code",
      "metadata": {
        "id": "6x4J50fNiGd9",
        "colab": {
          "base_uri": "https://localhost:8080/",
          "height": 316
        },
        "outputId": "26b2306a-81a6-4319-e359-0d0777a3d0a8"
      },
      "source": [
        "plt.hist(md_h)"
      ],
      "execution_count": 226,
      "outputs": [
        {
          "output_type": "execute_result",
          "data": {
            "text/plain": [
              "(array([379.,   0., 322.,   0., 492.,   0., 158.,   0., 204.,  44.]),\n",
              " array([0. , 0.5, 1. , 1.5, 2. , 2.5, 3. , 3.5, 4. , 4.5, 5. ]),\n",
              " <a list of 10 Patch objects>)"
            ]
          },
          "metadata": {
            "tags": []
          },
          "execution_count": 226
        },
        {
          "output_type": "display_data",
          "data": {
            "image/png": "[encoded data removed]",
            "text/plain": [
              "<Figure size 432x288 with 1 Axes>"
            ]
          },
          "metadata": {
            "tags": [],
            "needs_background": "light"
          }
        }
      ]
    },
    {
      "cell_type": "markdown",
      "metadata": {
        "id": "ZTx2B-sXiGd9"
      },
      "source": [
        "* Centroids in Kmeans are available at *cluster_centers* attribute. So, for a dataset with 12 features, and for 6 clusters pre-defined, *cluster_centers* will give 6 arrays of 12 values per array, as many as features in original dataset"
      ]
    },
    {
      "cell_type": "code",
      "metadata": {
        "id": "mr6DjSMxiGd9",
        "colab": {
          "base_uri": "https://localhost:8080/"
        },
        "outputId": "c2d92e7d-7614-4b1d-cdf3-952bbc855fa8"
      },
      "source": [
        "model.cluster_centers_"
      ],
      "execution_count": 227,
      "outputs": [
        {
          "output_type": "execute_result",
          "data": {
            "text/plain": [
              "array([[0.36946903, 0.15456719, 0.43349138, 0.10702055, 0.10525445,\n",
              "        0.1657965 , 0.08396795, 0.40450782, 0.41277491, 0.24001136,\n",
              "        0.50537135, 0.71465517],\n",
              "       [0.23732904, 0.38823163, 0.06823864, 0.09385702, 0.12075524,\n",
              "        0.16523287, 0.10681015, 0.47964015, 0.52335361, 0.15143576,\n",
              "        0.23554779, 0.42159091],\n",
              "       [0.33143491, 0.27815453, 0.26831683, 0.09123378, 0.13571023,\n",
              "        0.13656859, 0.12365159, 0.52156603, 0.41682908, 0.18950218,\n",
              "        0.21221122, 0.49372937],\n",
              "       [0.17316881, 0.31799473, 0.09610329, 0.09370378, 0.09512725,\n",
              "        0.24856179, 0.12427213, 0.3168566 , 0.5782411 , 0.18543195,\n",
              "        0.50056579, 0.61502347],\n",
              "       [0.31816724, 0.27778191, 0.3076087 , 0.16162895, 0.12823305,\n",
              "        0.4034752 , 0.31170943, 0.54055204, 0.43018943, 0.19011976,\n",
              "        0.21848755, 0.45362319],\n",
              "       [0.59176951, 0.20380552, 0.54721973, 0.13185699, 0.1693031 ,\n",
              "        0.14659256, 0.09688   , 0.65673337, 0.31785601, 0.25031551,\n",
              "        0.29718294, 0.55156951]])"
            ]
          },
          "metadata": {
            "tags": []
          },
          "execution_count": 227
        }
      ]
    },
    {
      "cell_type": "markdown",
      "metadata": {
        "id": "YbHRPISbiGd-"
      },
      "source": [
        "### Conclusion"
      ]
    },
    {
      "cell_type": "code",
      "metadata": {
        "id": "-d9cFLFjiGd-",
        "colab": {
          "base_uri": "https://localhost:8080/",
          "height": 300
        },
        "outputId": "6c527b3a-e346-4097-d660-e0e03a19fca3"
      },
      "source": [
        "data_norm.groupby(\"KMeans clustering\").mean()"
      ],
      "execution_count": 247,
      "outputs": [
        {
          "output_type": "execute_result",
          "data": {
            "text/html": [
              "<div>\n",
              "<style scoped>\n",
              "    .dataframe tbody tr th:only-of-type {\n",
              "        vertical-align: middle;\n",
              "    }\n",
              "\n",
              "    .dataframe tbody tr th {\n",
              "        vertical-align: top;\n",
              "    }\n",
              "\n",
              "    .dataframe thead th {\n",
              "        text-align: right;\n",
              "    }\n",
              "</style>\n",
              "<table border=\"1\" class=\"dataframe\">\n",
              "  <thead>\n",
              "    <tr style=\"text-align: right;\">\n",
              "      <th></th>\n",
              "      <th>fixed acidity</th>\n",
              "      <th>volatile acidity</th>\n",
              "      <th>citric acid</th>\n",
              "      <th>residual sugar</th>\n",
              "      <th>chlorides</th>\n",
              "      <th>free sulfur dioxide</th>\n",
              "      <th>total sulfur dioxide</th>\n",
              "      <th>density</th>\n",
              "      <th>pH</th>\n",
              "      <th>sulphates</th>\n",
              "      <th>alcohol</th>\n",
              "      <th>quality</th>\n",
              "      <th>Clustering Hierarchical clustering</th>\n",
              "    </tr>\n",
              "    <tr>\n",
              "      <th>KMeans clustering</th>\n",
              "      <th></th>\n",
              "      <th></th>\n",
              "      <th></th>\n",
              "      <th></th>\n",
              "      <th></th>\n",
              "      <th></th>\n",
              "      <th></th>\n",
              "      <th></th>\n",
              "      <th></th>\n",
              "      <th></th>\n",
              "      <th></th>\n",
              "      <th></th>\n",
              "      <th></th>\n",
              "    </tr>\n",
              "  </thead>\n",
              "  <tbody>\n",
              "    <tr>\n",
              "      <th>0</th>\n",
              "      <td>0.369469</td>\n",
              "      <td>0.154567</td>\n",
              "      <td>0.433491</td>\n",
              "      <td>0.107021</td>\n",
              "      <td>0.105254</td>\n",
              "      <td>0.165797</td>\n",
              "      <td>0.083968</td>\n",
              "      <td>0.404508</td>\n",
              "      <td>0.412775</td>\n",
              "      <td>0.240011</td>\n",
              "      <td>0.505371</td>\n",
              "      <td>0.714655</td>\n",
              "      <td>0.081897</td>\n",
              "    </tr>\n",
              "    <tr>\n",
              "      <th>1</th>\n",
              "      <td>0.237329</td>\n",
              "      <td>0.388232</td>\n",
              "      <td>0.068239</td>\n",
              "      <td>0.093857</td>\n",
              "      <td>0.120755</td>\n",
              "      <td>0.165233</td>\n",
              "      <td>0.106810</td>\n",
              "      <td>0.479640</td>\n",
              "      <td>0.523354</td>\n",
              "      <td>0.151436</td>\n",
              "      <td>0.235548</td>\n",
              "      <td>0.421591</td>\n",
              "      <td>2.136364</td>\n",
              "    </tr>\n",
              "    <tr>\n",
              "      <th>2</th>\n",
              "      <td>0.331435</td>\n",
              "      <td>0.278155</td>\n",
              "      <td>0.268317</td>\n",
              "      <td>0.091234</td>\n",
              "      <td>0.135710</td>\n",
              "      <td>0.136569</td>\n",
              "      <td>0.123652</td>\n",
              "      <td>0.521566</td>\n",
              "      <td>0.416829</td>\n",
              "      <td>0.189502</td>\n",
              "      <td>0.212211</td>\n",
              "      <td>0.493729</td>\n",
              "      <td>1.561056</td>\n",
              "    </tr>\n",
              "    <tr>\n",
              "      <th>3</th>\n",
              "      <td>0.173169</td>\n",
              "      <td>0.317995</td>\n",
              "      <td>0.096103</td>\n",
              "      <td>0.093704</td>\n",
              "      <td>0.095127</td>\n",
              "      <td>0.248562</td>\n",
              "      <td>0.124272</td>\n",
              "      <td>0.316857</td>\n",
              "      <td>0.578241</td>\n",
              "      <td>0.185432</td>\n",
              "      <td>0.500566</td>\n",
              "      <td>0.615023</td>\n",
              "      <td>3.450704</td>\n",
              "    </tr>\n",
              "    <tr>\n",
              "      <th>4</th>\n",
              "      <td>0.318167</td>\n",
              "      <td>0.277782</td>\n",
              "      <td>0.307609</td>\n",
              "      <td>0.161629</td>\n",
              "      <td>0.128233</td>\n",
              "      <td>0.403475</td>\n",
              "      <td>0.311709</td>\n",
              "      <td>0.540552</td>\n",
              "      <td>0.430189</td>\n",
              "      <td>0.190120</td>\n",
              "      <td>0.218488</td>\n",
              "      <td>0.453623</td>\n",
              "      <td>1.061594</td>\n",
              "    </tr>\n",
              "    <tr>\n",
              "      <th>5</th>\n",
              "      <td>0.591770</td>\n",
              "      <td>0.203806</td>\n",
              "      <td>0.547220</td>\n",
              "      <td>0.131857</td>\n",
              "      <td>0.169303</td>\n",
              "      <td>0.146593</td>\n",
              "      <td>0.096880</td>\n",
              "      <td>0.656733</td>\n",
              "      <td>0.317856</td>\n",
              "      <td>0.250316</td>\n",
              "      <td>0.297183</td>\n",
              "      <td>0.551570</td>\n",
              "      <td>2.439462</td>\n",
              "    </tr>\n",
              "  </tbody>\n",
              "</table>\n",
              "</div>"
            ],
            "text/plain": [
              "                   fixed acidity  ...  Clustering Hierarchical clustering\n",
              "KMeans clustering                 ...                                    \n",
              "0                       0.369469  ...                            0.081897\n",
              "1                       0.237329  ...                            2.136364\n",
              "2                       0.331435  ...                            1.561056\n",
              "3                       0.173169  ...                            3.450704\n",
              "4                       0.318167  ...                            1.061594\n",
              "5                       0.591770  ...                            2.439462\n",
              "\n",
              "[6 rows x 13 columns]"
            ]
          },
          "metadata": {
            "tags": []
          },
          "execution_count": 247
        }
      ]
    },
    {
      "cell_type": "code",
      "metadata": {
        "colab": {
          "base_uri": "https://localhost:8080/",
          "height": 300
        },
        "id": "W8r_7ByNSol5",
        "outputId": "442a2769-c90e-411a-a1a1-54ab891454d7"
      },
      "source": [
        "data_norm.groupby(\"Clustering Hierarchical clustering\").mean()"
      ],
      "execution_count": 248,
      "outputs": [
        {
          "output_type": "execute_result",
          "data": {
            "text/html": [
              "<div>\n",
              "<style scoped>\n",
              "    .dataframe tbody tr th:only-of-type {\n",
              "        vertical-align: middle;\n",
              "    }\n",
              "\n",
              "    .dataframe tbody tr th {\n",
              "        vertical-align: top;\n",
              "    }\n",
              "\n",
              "    .dataframe thead th {\n",
              "        text-align: right;\n",
              "    }\n",
              "</style>\n",
              "<table border=\"1\" class=\"dataframe\">\n",
              "  <thead>\n",
              "    <tr style=\"text-align: right;\">\n",
              "      <th></th>\n",
              "      <th>fixed acidity</th>\n",
              "      <th>volatile acidity</th>\n",
              "      <th>citric acid</th>\n",
              "      <th>residual sugar</th>\n",
              "      <th>chlorides</th>\n",
              "      <th>free sulfur dioxide</th>\n",
              "      <th>total sulfur dioxide</th>\n",
              "      <th>density</th>\n",
              "      <th>pH</th>\n",
              "      <th>sulphates</th>\n",
              "      <th>alcohol</th>\n",
              "      <th>quality</th>\n",
              "      <th>KMeans clustering</th>\n",
              "    </tr>\n",
              "    <tr>\n",
              "      <th>Clustering Hierarchical clustering</th>\n",
              "      <th></th>\n",
              "      <th></th>\n",
              "      <th></th>\n",
              "      <th></th>\n",
              "      <th></th>\n",
              "      <th></th>\n",
              "      <th></th>\n",
              "      <th></th>\n",
              "      <th></th>\n",
              "      <th></th>\n",
              "      <th></th>\n",
              "      <th></th>\n",
              "      <th></th>\n",
              "    </tr>\n",
              "  </thead>\n",
              "  <tbody>\n",
              "    <tr>\n",
              "      <th>0</th>\n",
              "      <td>0.380858</td>\n",
              "      <td>0.171341</td>\n",
              "      <td>0.422691</td>\n",
              "      <td>0.109661</td>\n",
              "      <td>0.109928</td>\n",
              "      <td>0.178844</td>\n",
              "      <td>0.098362</td>\n",
              "      <td>0.450974</td>\n",
              "      <td>0.417198</td>\n",
              "      <td>0.226202</td>\n",
              "      <td>0.439821</td>\n",
              "      <td>0.653298</td>\n",
              "      <td>1.356201</td>\n",
              "    </tr>\n",
              "    <tr>\n",
              "      <th>1</th>\n",
              "      <td>0.311109</td>\n",
              "      <td>0.282598</td>\n",
              "      <td>0.299255</td>\n",
              "      <td>0.159683</td>\n",
              "      <td>0.126075</td>\n",
              "      <td>0.349926</td>\n",
              "      <td>0.283037</td>\n",
              "      <td>0.545567</td>\n",
              "      <td>0.441899</td>\n",
              "      <td>0.174080</td>\n",
              "      <td>0.203376</td>\n",
              "      <td>0.450932</td>\n",
              "      <td>3.506211</td>\n",
              "    </tr>\n",
              "    <tr>\n",
              "      <th>2</th>\n",
              "      <td>0.265613</td>\n",
              "      <td>0.356714</td>\n",
              "      <td>0.113557</td>\n",
              "      <td>0.091213</td>\n",
              "      <td>0.124109</td>\n",
              "      <td>0.147873</td>\n",
              "      <td>0.105073</td>\n",
              "      <td>0.486659</td>\n",
              "      <td>0.485132</td>\n",
              "      <td>0.156005</td>\n",
              "      <td>0.228685</td>\n",
              "      <td>0.455285</td>\n",
              "      <td>1.428862</td>\n",
              "    </tr>\n",
              "    <tr>\n",
              "      <th>3</th>\n",
              "      <td>0.644449</td>\n",
              "      <td>0.206477</td>\n",
              "      <td>0.548734</td>\n",
              "      <td>0.128576</td>\n",
              "      <td>0.124564</td>\n",
              "      <td>0.142271</td>\n",
              "      <td>0.098135</td>\n",
              "      <td>0.684780</td>\n",
              "      <td>0.301455</td>\n",
              "      <td>0.226218</td>\n",
              "      <td>0.296754</td>\n",
              "      <td>0.559494</td>\n",
              "      <td>4.841772</td>\n",
              "    </tr>\n",
              "    <tr>\n",
              "      <th>4</th>\n",
              "      <td>0.169313</td>\n",
              "      <td>0.344531</td>\n",
              "      <td>0.080000</td>\n",
              "      <td>0.089394</td>\n",
              "      <td>0.095731</td>\n",
              "      <td>0.253521</td>\n",
              "      <td>0.122151</td>\n",
              "      <td>0.329572</td>\n",
              "      <td>0.589432</td>\n",
              "      <td>0.182165</td>\n",
              "      <td>0.482944</td>\n",
              "      <td>0.578431</td>\n",
              "      <td>2.745098</td>\n",
              "    </tr>\n",
              "    <tr>\n",
              "      <th>5</th>\n",
              "      <td>0.335881</td>\n",
              "      <td>0.279577</td>\n",
              "      <td>0.405455</td>\n",
              "      <td>0.069894</td>\n",
              "      <td>0.430073</td>\n",
              "      <td>0.172535</td>\n",
              "      <td>0.184388</td>\n",
              "      <td>0.508911</td>\n",
              "      <td>0.274875</td>\n",
              "      <td>0.517148</td>\n",
              "      <td>0.171678</td>\n",
              "      <td>0.450000</td>\n",
              "      <td>3.295455</td>\n",
              "    </tr>\n",
              "  </tbody>\n",
              "</table>\n",
              "</div>"
            ],
            "text/plain": [
              "                                    fixed acidity  ...  KMeans clustering\n",
              "Clustering Hierarchical clustering                 ...                   \n",
              "0                                        0.380858  ...           1.356201\n",
              "1                                        0.311109  ...           3.506211\n",
              "2                                        0.265613  ...           1.428862\n",
              "3                                        0.644449  ...           4.841772\n",
              "4                                        0.169313  ...           2.745098\n",
              "5                                        0.335881  ...           3.295455\n",
              "\n",
              "[6 rows x 13 columns]"
            ]
          },
          "metadata": {
            "tags": []
          },
          "execution_count": 248
        }
      ]
    },
    {
      "cell_type": "markdown",
      "metadata": {
        "id": "cxKUBQHriGd-"
      },
      "source": [
        "* A new wine reference would fit in one of the clusters created above. It can be set by Kmeans or Hierarchical clustering. For both technics, 6 groups or clusters where created because of feature similarities for each wine reference.  "
      ]
    }
  ]
}